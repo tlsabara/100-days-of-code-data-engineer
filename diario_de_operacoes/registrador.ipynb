{
 "cells": [
  {
   "cell_type": "code",
   "execution_count": 2,
   "metadata": {},
   "outputs": [
    {
     "name": "stdout",
     "output_type": "stream",
     "text": [
      "ok\n"
     ]
    }
   ],
   "source": [
    "from datetime import datetime\n",
    "import os\n",
    "from pathlib import Path\n",
    "\n",
    "ROOT_DIR = Path(os.path.abspath(os.curdir))\n",
    "\n",
    "msg = f\"\"\"\\n({datetime.now().strftime('%H:%M')}) {datetime.now().strftime('%d/%m/%Y')}\\n\n",
    "Mensagem:\n",
    "\n",
    "Pro primeiro dia nada mal.\n",
    "\n",
    "Realizei a criação das classes dos workers. Os workers de Json e XML entregam todos os dados sempre, mas o Worker de TXT tem \"Falhas\" (Criadas propositalmente).\n",
    "O proximo passo é criar um processamento paralelo para esses workers.\n",
    "\n",
    "machine11000000001 foi o prmeiro teste\n",
    "as demais machines ja foram geradas pelas classes.\n",
    "\n",
    "\"\"\"\n",
    "\n",
    "filename = ROOT_DIR / 'Diario.md'\n",
    "with open(filename, 'a') as f:\n",
    "    f.writelines(msg)\n",
    "print('ok')"
   ]
  }
 ],
 "metadata": {
  "kernelspec": {
   "display_name": "Python 3",
   "language": "python",
   "name": "python3"
  },
  "language_info": {
   "codemirror_mode": {
    "name": "ipython",
    "version": 3
   },
   "file_extension": ".py",
   "mimetype": "text/x-python",
   "name": "python",
   "nbconvert_exporter": "python",
   "pygments_lexer": "ipython3",
   "version": "3.11.0"
  },
  "orig_nbformat": 4,
  "vscode": {
   "interpreter": {
    "hash": "c261aea317cc0286b3b3261fbba9abdec21eaa57589985bb7a274bf54d6cc0a7"
   }
  }
 },
 "nbformat": 4,
 "nbformat_minor": 2
}
