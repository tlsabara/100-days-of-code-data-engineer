{
 "cells": [
  {
   "cell_type": "code",
   "execution_count": 1,
   "metadata": {},
   "outputs": [
    {
     "name": "stdout",
     "output_type": "stream",
     "text": [
      "ok\n"
     ]
    }
   ],
   "source": [
    "from datetime import datetime\n",
    "import os\n",
    "from pathlib import Path\n",
    "\n",
    "ROOT_DIR = Path(os.path.abspath(os.curdir))\n",
    "\n",
    "msg = f\"\"\"\\n({datetime.now().strftime('%H:%M')}) {datetime.now().strftime('%d/%m/%Y')}\\n\n",
    "Mensagem:\n",
    "\n",
    "Bom de volta ao diário de bordo. Estou com muitos projetos em curso e isso esta consumindo tempo deste projeto.\n",
    "Mesmo assim consegui progredir. Atualmente temos as classes bases e o escopo de fábirca construidos. Fácil configuração(.json)\n",
    "Os próximos passos são para montar a estrutura de docker para essas fábricas.\n",
    "\"\"\"\n",
    "\n",
    "filename = ROOT_DIR / 'Diario.md'\n",
    "with open(filename, 'a') as f:\n",
    "    f.writelines(msg)\n",
    "print('ok')"
   ]
  },
  {
   "cell_type": "code",
   "execution_count": null,
   "outputs": [],
   "source": [],
   "metadata": {
    "collapsed": false
   }
  }
 ],
 "metadata": {
  "kernelspec": {
   "display_name": "Python 3",
   "language": "python",
   "name": "python3"
  },
  "language_info": {
   "codemirror_mode": {
    "name": "ipython",
    "version": 3
   },
   "file_extension": ".py",
   "mimetype": "text/x-python",
   "name": "python",
   "nbconvert_exporter": "python",
   "pygments_lexer": "ipython3",
   "version": "3.11.0"
  },
  "orig_nbformat": 4,
  "vscode": {
   "interpreter": {
    "hash": "c261aea317cc0286b3b3261fbba9abdec21eaa57589985bb7a274bf54d6cc0a7"
   }
  }
 },
 "nbformat": 4,
 "nbformat_minor": 2
}
